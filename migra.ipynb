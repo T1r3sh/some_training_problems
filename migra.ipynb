{
 "cells": [
  {
   "cell_type": "code",
   "execution_count": 1,
   "metadata": {},
   "outputs": [],
   "source": [
    "records = [\n",
    "    [\"2015-04-04\", \"2015-05-13\"],  # correct\n",
    "    [\"2013-06-18\", \"2013-08-05\"],  # correct\n",
    "    [\"2001-02-07\", \"2001-03-01\"],  # correct\n",
    "    [\"2011-10-08\", \"2011-08-14\"],  # recoverable\n",
    "    [\"2009-08-21\", \"2009-04-12\"],  # recoverable\n",
    "    [\"1996-01-24\", \"1996-03-09\"],  # uncertain\n",
    "    [\"2000-10-09\", \"2000-11-20\"],  # uncertain\n",
    "    [\"2002-02-07\", \"2002-12-10\"]]  # uncertain"
   ]
  },
  {
   "cell_type": "code",
   "execution_count": 2,
   "metadata": {},
   "outputs": [],
   "source": [
    "import datetime as dt"
   ]
  },
  {
   "cell_type": "code",
   "execution_count": 7,
   "metadata": {},
   "outputs": [
    {
     "data": {
      "text/plain": [
       "datetime.datetime(2000, 5, 7, 0, 0)"
      ]
     },
     "execution_count": 7,
     "metadata": {},
     "output_type": "execute_result"
    }
   ],
   "source": [
    "a = dt.datetime(2000, 5, 7)\n",
    "a"
   ]
  },
  {
   "cell_type": "code",
   "execution_count": 18,
   "metadata": {},
   "outputs": [
    {
     "data": {
      "text/plain": [
       "-212"
      ]
     },
     "execution_count": 18,
     "metadata": {},
     "output_type": "execute_result"
    }
   ],
   "source": [
    "b = dt.datetime(2001, 12, 6)\n",
    "c = a-b\n",
    "c.days\n",
    "#(a-b).days"
   ]
  },
  {
   "cell_type": "code",
   "execution_count": 16,
   "metadata": {},
   "outputs": [
    {
     "name": "stdout",
     "output_type": "stream",
     "text": [
      "2001 5 8\n"
     ]
    },
    {
     "data": {
      "text/plain": [
       "datetime.datetime(2001, 5, 8, 0, 0)"
      ]
     },
     "execution_count": 16,
     "metadata": {},
     "output_type": "execute_result"
    }
   ],
   "source": [
    "stra = '2001-05-08'\n",
    "o = map(int, stra.split('-'))\n",
    "\n",
    "year1, month1, day1 = map(int, stra.split('-'))\n",
    "a = dt.datetime(*o)\n",
    "print(year1, month1, day1)\n",
    "a"
   ]
  },
  {
   "cell_type": "code",
   "execution_count": 21,
   "metadata": {},
   "outputs": [
    {
     "data": {
      "text/plain": [
       "{1, 4}"
      ]
     },
     "execution_count": 21,
     "metadata": {},
     "output_type": "execute_result"
    }
   ],
   "source": [
    "a = [1, 1, 1, 1, 1, 4]\n",
    "set(a)"
   ]
  },
  {
   "cell_type": "code",
   "execution_count": 33,
   "metadata": {},
   "outputs": [],
   "source": [
    "import numpy as np\n",
    "from itertools import product, permutations, combinations"
   ]
  },
  {
   "cell_type": "code",
   "execution_count": 15,
   "metadata": {},
   "outputs": [],
   "source": [
    "def datetime_delta_modif(d1, d2, CM):\n",
    "    if CM[0] == 1:\n",
    "        if d1[2] <= 12:\n",
    "            d1[1], d1[2] = d1[2], d1[1]\n",
    "        else: \n",
    "            return -1\n",
    "        if d1[2] == d1[1]:\n",
    "            return -1\n",
    "    if CM[1] == 1:\n",
    "        if d2[2] <= 12:\n",
    "            d2[1], d2[2] = d2[2], d2[1]\n",
    "        else: \n",
    "            return -1\n",
    "        if d2[2]==d2[1]:\n",
    "            return -1\n",
    "    return (dt.datetime(*d2)-dt.datetime(*d1)).days"
   ]
  },
  {
   "cell_type": "code",
   "execution_count": 16,
   "metadata": {},
   "outputs": [],
   "source": [
    "def checker(a):\n",
    "    c = 0\n",
    "    for i in a[1:]:\n",
    "        if i>0:\n",
    "            c+=1\n",
    "    if a[0]>0:\n",
    "        if c==0:\n",
    "            return [1,0,0]\n",
    "    else:\n",
    "        if c==1:\n",
    "            return [0,1,0]\n",
    "    return [0,0,1]"
   ]
  },
  {
   "cell_type": "code",
   "execution_count": 17,
   "metadata": {},
   "outputs": [],
   "source": [
    "def check_dates(records):\n",
    "    counters = np.array([0, 0, 0])\n",
    "    for i in records:\n",
    "        d1 = list(map(int, i[0].split('-')))\n",
    "        d2 = list(map(int, i[1].split('-')))\n",
    "        cm = product([0, 1], repeat=2)\n",
    "        dtime = []\n",
    "        for j in cm:\n",
    "            d1c = d1.copy()\n",
    "            d2c = d2.copy()\n",
    "            dtime.append(datetime_delta_modif(d1c, d2c, j))\n",
    "        print(dtime)\n",
    "        counters += np.array(checker(dtime))\n",
    "    return list(counters)"
   ]
  },
  {
   "cell_type": "code",
   "execution_count": 18,
   "metadata": {},
   "outputs": [
    {
     "name": "stdout",
     "output_type": "stream",
     "text": [
      "[39, -1, -1, -1]\n",
      "[48, -41, -1, -1]\n",
      "[22, -35, -123, -180]\n",
      "[-55, -1, 4, -1]\n",
      "[-131, 105, -1, -1]\n",
      "[45, 223, -1, -1]\n",
      "[42, -1, 71, -1]\n",
      "[306, 247, 161, 102]\n"
     ]
    },
    {
     "data": {
      "text/plain": [
       "[3, 2, 3]"
      ]
     },
     "execution_count": 18,
     "metadata": {},
     "output_type": "execute_result"
    }
   ],
   "source": [
    "check_dates(records)"
   ]
  },
  {
   "cell_type": "code",
   "execution_count": 20,
   "metadata": {},
   "outputs": [
    {
     "data": {
      "text/plain": [
       "[(0, 0), (0, 1), (1, 0), (1, 1)]"
      ]
     },
     "execution_count": 20,
     "metadata": {},
     "output_type": "execute_result"
    }
   ],
   "source": [
    "cm = product([0, 1], repeat=2)\n",
    "list(cm)"
   ]
  },
  {
   "cell_type": "code",
   "execution_count": 51,
   "metadata": {},
   "outputs": [
    {
     "name": "stdout",
     "output_type": "stream",
     "text": [
      "[2015, 4, 4]\n",
      "[2015, 5, 13]\n"
     ]
    }
   ],
   "source": [
    "def checker2(m1, d1, m2, d2):\n",
    "    if m1"
   ]
  },
  {
   "cell_type": "code",
   "execution_count": 55,
   "metadata": {},
   "outputs": [
    {
     "data": {
      "text/plain": [
       "{((4, 4), (5, 13)), ((4, 4), (13, 5))}"
      ]
     },
     "execution_count": 55,
     "metadata": {},
     "output_type": "execute_result"
    }
   ],
   "source": []
  },
  {
   "cell_type": "code",
   "execution_count": 56,
   "metadata": {},
   "outputs": [],
   "source": [
    "def comparator(d1, d2):\n",
    "    try:\n",
    "        d1 = dt.datetime(*d1)\n",
    "    except ValueError:\n",
    "        return False\n",
    "    try:\n",
    "        d2 = dt.datetime(*d2)\n",
    "    except ValueError:\n",
    "        return False\n",
    "    if (d2-d1).days>=0:\n",
    "        return True\n",
    "    else:\n",
    "        return False"
   ]
  },
  {
   "cell_type": "code",
   "execution_count": 63,
   "metadata": {},
   "outputs": [],
   "source": [
    "def check_dates(records):\n",
    "    c0 = [0, 0, 0]\n",
    "    for i in records:\n",
    "        d1 = list(map(int, i[0].split('-')))\n",
    "        d2 = list(map(int, i[1].split('-')))\n",
    "        dmix = list(permutations([d1[1], d1[2]], 2))\n",
    "        dmix.extend(list(permutations([d2[1], d2[2]], 2)))\n",
    "        combis = set(list(combinations(dmix,2))[1:-1])\n",
    "        blist = []\n",
    "        for j in combis:\n",
    "            blist.append(comparator([d1[0], *list(j[0])], [d2[0], *list(j[1])]))\n",
    "        if blist[0]:\n",
    "            if True in blist[1:]:\n",
    "                c0[2]+=1 \n",
    "            else:\n",
    "                c0[0] += 1\n",
    "        else:\n",
    "            if blist.count(True) == 1:\n",
    "                c0[1]+=1\n",
    "            else:\n",
    "                c0[2]+=1 \n",
    "    return c0"
   ]
  },
  {
   "cell_type": "markdown",
   "metadata": {},
   "source": []
  },
  {
   "cell_type": "code",
   "execution_count": 64,
   "metadata": {},
   "outputs": [
    {
     "data": {
      "text/plain": [
       "[3, 2, 3]"
      ]
     },
     "execution_count": 64,
     "metadata": {},
     "output_type": "execute_result"
    }
   ],
   "source": [
    "check_dates(records)"
   ]
  },
  {
   "cell_type": "code",
   "execution_count": null,
   "metadata": {},
   "outputs": [],
   "source": [
    "def check_dates(records):\n",
    "    counters = np.array([0, 0, 0])\n",
    "    for i in records:\n",
    "        d1 = list(map(int, i[0].split('-')))\n",
    "        d2 = list(map(int, i[1].split('-')))\n",
    "        cm = product([0, 1], repeat=2)\n",
    "        dtime = []\n",
    "        for j in cm:\n",
    "            d1c = d1.copy()\n",
    "            d2c = d2.copy()\n",
    "            dtime.append(datetime_delta_modif(d1c, d2c, j))\n",
    "        print(dtime)\n",
    "        counters += np.array(checker(dtime))\n",
    "    return list(counters)"
   ]
  },
  {
   "cell_type": "code",
   "execution_count": 6,
   "metadata": {},
   "outputs": [],
   "source": [
    "a = dt.datetime(*list(map(int, records[0][0].split('-')))).day\n"
   ]
  },
  {
   "cell_type": "code",
   "execution_count": null,
   "metadata": {},
   "outputs": [],
   "source": [
    "def combiq(d1, d2):\n",
    "    # d1 = [yy, mm, dd]\n",
    "    if d1[2] <= 12:\n",
    "        print('additional movement')\n",
    "    else:\n",
    "        print('nah')\n",
    "    if d2[2] <= 12:\n",
    "        print('additional')\n",
    "    "
   ]
  },
  {
   "cell_type": "code",
   "execution_count": 12,
   "metadata": {},
   "outputs": [],
   "source": [
    "def check_dates(records):\n",
    "    for i in records:\n",
    "        fina_list = [0, 0, 0]\n",
    "        d1 = list(map(int, i[0].split('-')))\n",
    "        d2 = list(map(int, i[1].split('-')))\n",
    "        delta = lambda x1, x2: (dt.datetime(*x2)-dt.datetime(*x1)).days\n",
    "        return [0, 0, 0]\n"
   ]
  },
  {
   "cell_type": "code",
   "execution_count": 13,
   "metadata": {},
   "outputs": [
    {
     "name": "stdout",
     "output_type": "stream",
     "text": [
      "Joe Biden\n",
      "Joe Biden\n",
      "Joe Biden\n",
      "Omabna\n",
      "Omabna\n",
      "Joe Biden\n",
      "Joe Biden\n",
      "Joe Biden\n"
     ]
    },
    {
     "data": {
      "text/plain": [
       "[0, 0, 0]"
      ]
     },
     "execution_count": 13,
     "metadata": {},
     "output_type": "execute_result"
    }
   ],
   "source": [
    "check_dates(records)"
   ]
  },
  {
   "cell_type": "code",
   "execution_count": null,
   "metadata": {},
   "outputs": [],
   "source": []
  }
 ],
 "metadata": {
  "kernelspec": {
   "display_name": "Python 3.10.7 64-bit",
   "language": "python",
   "name": "python3"
  },
  "language_info": {
   "codemirror_mode": {
    "name": "ipython",
    "version": 3
   },
   "file_extension": ".py",
   "mimetype": "text/x-python",
   "name": "python",
   "nbconvert_exporter": "python",
   "pygments_lexer": "ipython3",
   "version": "3.10.7"
  },
  "orig_nbformat": 4,
  "vscode": {
   "interpreter": {
    "hash": "ef1cb05b5fd69eb4c54293b569f04114c9572fbd0b12e25984b857ad7fb6a9e5"
   }
  }
 },
 "nbformat": 4,
 "nbformat_minor": 2
}
