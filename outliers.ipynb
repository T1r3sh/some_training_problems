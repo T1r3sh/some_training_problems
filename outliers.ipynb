{
 "cells": [
  {
   "cell_type": "code",
   "execution_count": 6,
   "metadata": {},
   "outputs": [],
   "source": [
    "import numpy as np"
   ]
  },
  {
   "cell_type": "code",
   "execution_count": 2,
   "metadata": {},
   "outputs": [],
   "source": [
    "sample = [1, 2, 3, 4, 5, 6, 7, 8, 9, 10, 100]\n",
    "cutoff = 3"
   ]
  },
  {
   "cell_type": "code",
   "execution_count": 16,
   "metadata": {},
   "outputs": [
    {
     "data": {
      "text/plain": [
       "14.090909090909092"
      ]
     },
     "execution_count": 16,
     "metadata": {},
     "output_type": "execute_result"
    }
   ],
   "source": [
    "np.mean(sample)\n"
   ]
  },
  {
   "cell_type": "code",
   "execution_count": 17,
   "metadata": {},
   "outputs": [],
   "source": [
    "def inrange(x, llim, ulim):\n",
    "    if x>llim and x<ulim:\n",
    "        return True\n",
    "    else:\n",
    "        return False"
   ]
  },
  {
   "cell_type": "code",
   "execution_count": 18,
   "metadata": {},
   "outputs": [],
   "source": [
    "def clean_mean(sample, cutoff):\n",
    "    osam = sample\n",
    "    nsam = sample\n",
    "    while True:\n",
    "        osam = nsam\n",
    "        olen = len(osam)\n",
    "        omean = np.mean(osam)\n",
    "        ostd = np.std(osam)\n",
    "        llim = omean - cutoff*ostd\n",
    "        ulim = omean + cutoff*ostd\n",
    "        nsam = list(filter(lambda x: inrange(x, llim, ulim), osam))\n",
    "        nlen = len(nsam)\n",
    "        if olen==nlen:\n",
    "            break\n",
    "    return np.mean(nsam)"
   ]
  },
  {
   "cell_type": "code",
   "execution_count": null,
   "metadata": {},
   "outputs": [],
   "source": []
  }
 ],
 "metadata": {
  "kernelspec": {
   "display_name": "Python 3.10.7 64-bit",
   "language": "python",
   "name": "python3"
  },
  "language_info": {
   "codemirror_mode": {
    "name": "ipython",
    "version": 3
   },
   "file_extension": ".py",
   "mimetype": "text/x-python",
   "name": "python",
   "nbconvert_exporter": "python",
   "pygments_lexer": "ipython3",
   "version": "3.10.7"
  },
  "orig_nbformat": 4,
  "vscode": {
   "interpreter": {
    "hash": "ef1cb05b5fd69eb4c54293b569f04114c9572fbd0b12e25984b857ad7fb6a9e5"
   }
  }
 },
 "nbformat": 4,
 "nbformat_minor": 2
}
