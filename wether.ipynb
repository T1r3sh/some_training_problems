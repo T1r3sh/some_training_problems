{
 "cells": [
  {
   "cell_type": "code",
   "execution_count": 2,
   "metadata": {},
   "outputs": [],
   "source": [
    "from itertools import product\n",
    "from math import prod"
   ]
  },
  {
   "cell_type": "code",
   "execution_count": 19,
   "metadata": {},
   "outputs": [],
   "source": [
    "n = 3\n",
    "initial_wether = 0\n",
    "finale_weather = 1"
   ]
  },
  {
   "cell_type": "code",
   "execution_count": 15,
   "metadata": {},
   "outputs": [
    {
     "data": {
      "text/plain": [
       "[0, 1, 2, 3, 4]"
      ]
     },
     "execution_count": 15,
     "metadata": {},
     "output_type": "execute_result"
    }
   ],
   "source": [
    "a = (1, 2, 3)\n",
    "b = list(a)\n",
    "b.insert(0, 0)\n",
    "b.extend([4])\n",
    "b\n"
   ]
  },
  {
   "cell_type": "code",
   "execution_count": 22,
   "metadata": {},
   "outputs": [
    {
     "name": "stdout",
     "output_type": "stream",
     "text": [
      "[0.0010000000000000002, 0.007000000000000001, 0.016000000000000004, 0.010000000000000002, 0.0020000000000000005, 0.048999999999999995, 0.0020000000000000005, 0.008000000000000002, 0.03200000000000001, 0.11200000000000002, 0.06400000000000002, 0.11199999999999999, 0.020000000000000004, 0.06999999999999999, 0.04000000000000001, 0.06999999999999999]\n"
     ]
    },
    {
     "data": {
      "text/plain": [
       "0.615"
      ]
     },
     "execution_count": 22,
     "metadata": {},
     "output_type": "execute_result"
    }
   ],
   "source": [
    "p = [[0.1, 0.1, 0.8, 0.5],[0.2, 0.7, 0.1, 0.4],[0.4, 0.2, 0.4, 0.7],[0.4, 0.2, 0.4, 0.7]]\n",
    "k = len(p)\n",
    "wts = range(k)\n",
    "comb = list(product(wts, repeat = n-1))\n",
    "tmp_res = map(lambda x: prod([p[x[i]][x[i+1]] for i in range(len(x)-1)]), comb)\n",
    "a = [val*p[initial_wether][comb[i][0]]*p[comb[i][-1]][finale_weather]  for i, val in enumerate(tmp_res )]\n",
    "print(a)\n",
    "sum(a)\n",
    "#f_res = map(, tmp_res)\n",
    "#fina_list = filter(lambda x: x[0]==i and  x[-1]==j ,comb)\n",
    "#res = map(lambda x: prod([p[x[i]][x[i+1]] for i in range(len(x)-1)]), fina_list)\n",
    "#sum(res)\n",
    "\n"
   ]
  },
  {
   "cell_type": "code",
   "execution_count": 53,
   "metadata": {},
   "outputs": [],
   "source": [
    "def weather_prediction(days, weather_today, final_weather, P):\n",
    "    if len(P)==1:\n",
    "        return 1\n",
    "    if days == 1:\n",
    "        return P[weather_today][final_weather]\n",
    "    weather_list = range(len(P))\n",
    "    all_outcomes = list(product(weather_list, repeat = days-1))\n",
    "    tmp_res = map(lambda x: prod([P[x[i]][x[i+1]] for i in range(len(x)-1)]), all_outcomes)\n",
    "    res = [val*P[weather_today][all_outcomes[i][0]]*P[all_outcomes[i][-1]][final_weather]  for i, val in enumerate(tmp_res)]\n",
    "    return sum(res)"
   ]
  },
  {
   "cell_type": "code",
   "execution_count": 54,
   "metadata": {},
   "outputs": [
    {
     "name": "stdout",
     "output_type": "stream",
     "text": [
      "[(0,), (1,), (2,), (3,)]\n",
      "[0.010000000000000002, 0.06999999999999999, 0.16000000000000003, 0.1]\n"
     ]
    }
   ],
   "source": [
    "a = weather_prediction(2, 0, 1, p)"
   ]
  },
  {
   "cell_type": "code",
   "execution_count": 55,
   "metadata": {},
   "outputs": [
    {
     "data": {
      "text/plain": [
       "0.34"
      ]
     },
     "execution_count": 55,
     "metadata": {},
     "output_type": "execute_result"
    }
   ],
   "source": [
    "a"
   ]
  },
  {
   "cell_type": "code",
   "execution_count": 50,
   "metadata": {},
   "outputs": [],
   "source": [
    "\n",
    "def weather_prediction(days, weather_today, final_weather, P): \n",
    "    weather_list = list(range(len(P)))\n",
    "    all_outcomes = list(product(weather_list, repeat = days+1))\n",
    "    filtered_out = list(filter(lambda x: x[0]==weather_today and  x[-1]==final_weather ,all_outcomes))\n",
    "    print(filtered_out)\n",
    "    \n",
    "    res = list(map(lambda x: prod([P[x[i]][x[i+1]] for i in range(len(x)-1)]), filtered_out))\n",
    "    print(res)\n",
    "    return sum(res)"
   ]
  },
  {
   "cell_type": "code",
   "execution_count": null,
   "metadata": {},
   "outputs": [],
   "source": []
  },
  {
   "cell_type": "code",
   "execution_count": 51,
   "metadata": {},
   "outputs": [
    {
     "name": "stdout",
     "output_type": "stream",
     "text": [
      "[(0, 0, 1), (0, 1, 1), (0, 2, 1), (0, 3, 1)]\n",
      "[0.010000000000000002, 0.06999999999999999, 0.16000000000000003, 0.1]\n"
     ]
    }
   ],
   "source": [
    "a = weather_prediction(2, 0, 1, p)"
   ]
  },
  {
   "cell_type": "code",
   "execution_count": 49,
   "metadata": {},
   "outputs": [
    {
     "data": {
      "text/plain": [
       "0.34"
      ]
     },
     "execution_count": 49,
     "metadata": {},
     "output_type": "execute_result"
    }
   ],
   "source": [
    "a"
   ]
  },
  {
   "cell_type": "code",
   "execution_count": 52,
   "metadata": {},
   "outputs": [
    {
     "data": {
      "text/plain": [
       "[[0.1, 0.1, 0.8, 0.5],\n",
       " [0.2, 0.7, 0.1, 0.4],\n",
       " [0.4, 0.2, 0.4, 0.7],\n",
       " [0.4, 0.2, 0.4, 0.7]]"
      ]
     },
     "execution_count": 52,
     "metadata": {},
     "output_type": "execute_result"
    }
   ],
   "source": [
    "p"
   ]
  },
  {
   "cell_type": "code",
   "execution_count": null,
   "metadata": {},
   "outputs": [],
   "source": []
  }
 ],
 "metadata": {
  "kernelspec": {
   "display_name": "Python 3.10.7 64-bit",
   "language": "python",
   "name": "python3"
  },
  "language_info": {
   "codemirror_mode": {
    "name": "ipython",
    "version": 3
   },
   "file_extension": ".py",
   "mimetype": "text/x-python",
   "name": "python",
   "nbconvert_exporter": "python",
   "pygments_lexer": "ipython3",
   "version": "3.10.7"
  },
  "orig_nbformat": 4,
  "vscode": {
   "interpreter": {
    "hash": "ef1cb05b5fd69eb4c54293b569f04114c9572fbd0b12e25984b857ad7fb6a9e5"
   }
  }
 },
 "nbformat": 4,
 "nbformat_minor": 2
}
