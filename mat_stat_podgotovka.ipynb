{
 "cells": [
  {
   "cell_type": "code",
   "execution_count": 1,
   "metadata": {},
   "outputs": [],
   "source": [
    "from math import factorial, prod\n",
    "import numpy as np"
   ]
  },
  {
   "cell_type": "code",
   "execution_count": 2,
   "metadata": {},
   "outputs": [],
   "source": [
    "def combi(k, n):\n",
    "    edge_ = k if k<n-k else n-k\n",
    "    upper_val = prod(range(n, edge_, -1))\n",
    "    return upper_val/factorial(n-edge_)\n",
    "    \n",
    "def bernulli(k, n, p):\n",
    "    return combi(k, n)*p**k*(1-p)**(n-k)"
   ]
  },
  {
   "cell_type": "code",
   "execution_count": 3,
   "metadata": {},
   "outputs": [],
   "source": [
    "def puasson(k, n, p):\n",
    "    lamb = n*p\n",
    "    return lamb**k/factorial(k)*np.exp(-lamb)"
   ]
  },
  {
   "cell_type": "code",
   "execution_count": 22,
   "metadata": {},
   "outputs": [],
   "source": [
    "def st_ch_mm(vals, prob):\n",
    "    mat_ozhi = 0\n",
    "    mat_ozhi_2 = 0\n",
    "    for val, prob_d in zip(vals, prob):\n",
    "        mat_ozhi += val*prob_d\n",
    "        mat_ozhi_2 += val**2*prob_d\n",
    "    return mat_ozhi, mat_ozhi_2-mat_ozhi**2"
   ]
  },
  {
   "cell_type": "code",
   "execution_count": 25,
   "metadata": {},
   "outputs": [
    {
     "name": "stdout",
     "output_type": "stream",
     "text": [
      "(38.2, 218.75999999999976)\n",
      "(5.550000000000001, 5.387499999999989)\n",
      "(242.5, 35506.75)\n"
     ]
    }
   ],
   "source": [
    "print(st_ch_mm([20, 30, 40, 50, 70], [0.15, 0.39, 0.19, 0.15, 0.12]))\n",
    "print(st_ch_mm([3, 4, 5, 9, 10], [0.07, 0.44, 0.23, 0.17, 0.09]))\n",
    "print(st_ch_mm([3*20, 4*30, 5*40, 9*50, 10*70], [0.07, 0.44, 0.23, 0.17, 0.09]))\n"
   ]
  },
  {
   "cell_type": "code",
   "execution_count": 28,
   "metadata": {},
   "outputs": [
    {
     "data": {
      "text/plain": [
       "13.92342459527147"
      ]
     },
     "execution_count": 28,
     "metadata": {},
     "output_type": "execute_result"
    }
   ],
   "source": [
    "(2-9*np.pi**2/4)*np.sin(3*np.pi/2)-3*np.pi*np.cos(3*np.pi/2)+(np.pi**2-2)*np.sin(np.pi)+2*np.pi*np.cos(np.pi)"
   ]
  },
  {
   "cell_type": "code",
   "execution_count": 38,
   "metadata": {},
   "outputs": [
    {
     "data": {
      "text/plain": [
       "0.9992237486237932"
      ]
     },
     "execution_count": 38,
     "metadata": {},
     "output_type": "execute_result"
    }
   ],
   "source": [
    "puasson(3, 4000, 0.0001)+puasson(2, 4000, 0.0001)+puasson(1, 4000, 0.0001)+puasson(0, 4000, 0.0001)"
   ]
  },
  {
   "cell_type": "markdown",
   "metadata": {},
   "source": []
  },
  {
   "cell_type": "code",
   "execution_count": 2,
   "metadata": {},
   "outputs": [],
   "source": [
    "n = 6\n",
    "distance_map = [[0]*n for _ in range(n)]"
   ]
  },
  {
   "cell_type": "code",
   "execution_count": 4,
   "metadata": {},
   "outputs": [],
   "source": [
    "distance_map[0] = [0, 1, 1, 2, 2, 2]"
   ]
  },
  {
   "cell_type": "code",
   "execution_count": 6,
   "metadata": {},
   "outputs": [],
   "source": [
    "distance_map[1] = [1, 0, 2, 3, 3, 3]\n"
   ]
  },
  {
   "cell_type": "code",
   "execution_count": null,
   "metadata": {},
   "outputs": [],
   "source": [
    "distance_map[5] = [2, 3, 1, 2, 2, 0]\n"
   ]
  },
  {
   "cell_type": "code",
   "execution_count": 7,
   "metadata": {},
   "outputs": [
    {
     "data": {
      "text/plain": [
       "[[0, 1, 1, 2, 2, 2],\n",
       " [1, 0, 2, 3, 3, 3],\n",
       " [0, 0, 0, 0, 0, 0],\n",
       " [0, 0, 0, 0, 0, 0],\n",
       " [0, 0, 0, 0, 0, 0],\n",
       " [0, 0, 0, 0, 0, 0]]"
      ]
     },
     "execution_count": 7,
     "metadata": {},
     "output_type": "execute_result"
    }
   ],
   "source": [
    "distance_map"
   ]
  },
  {
   "attachments": {},
   "cell_type": "markdown",
   "metadata": {},
   "source": [
    "# вывод\n",
    "Можно впринципе считать только верхний треугольник дистанс мапы\n",
    "\n",
    "Ахуенно можно снизить память юзедж и тайм юзедж"
   ]
  },
  {
   "cell_type": "code",
   "execution_count": 14,
   "metadata": {},
   "outputs": [
    {
     "data": {
      "text/plain": [
       "3.221"
      ]
     },
     "execution_count": 14,
     "metadata": {},
     "output_type": "execute_result"
    }
   ],
   "source": [
    "0.22*9+0.127*4+0.287*1+0.184*1+4*0.052+0.006*9"
   ]
  },
  {
   "cell_type": "code",
   "execution_count": 15,
   "metadata": {},
   "outputs": [
    {
     "data": {
      "text/plain": [
       "-0.801025"
      ]
     },
     "execution_count": 15,
     "metadata": {},
     "output_type": "execute_result"
    }
   ],
   "source": [
    "-0.895**2\n"
   ]
  },
  {
   "cell_type": "code",
   "execution_count": 16,
   "metadata": {},
   "outputs": [
    {
     "data": {
      "text/plain": [
       "2.42"
      ]
     },
     "execution_count": 16,
     "metadata": {},
     "output_type": "execute_result"
    }
   ],
   "source": [
    "3.221-0.801\n"
   ]
  },
  {
   "cell_type": "code",
   "execution_count": 17,
   "metadata": {},
   "outputs": [
    {
     "data": {
      "text/plain": [
       "1.5556349186104046"
      ]
     },
     "execution_count": 17,
     "metadata": {},
     "output_type": "execute_result"
    }
   ],
   "source": [
    "np.sqrt(2.42)"
   ]
  },
  {
   "cell_type": "code",
   "execution_count": 29,
   "metadata": {},
   "outputs": [
    {
     "data": {
      "text/plain": [
       "0.9990234375"
      ]
     },
     "execution_count": 29,
     "metadata": {},
     "output_type": "execute_result"
    }
   ],
   "source": [
    "1-0.5**10"
   ]
  },
  {
   "cell_type": "code",
   "execution_count": 1,
   "metadata": {},
   "outputs": [],
   "source": [
    "from itertools import accumulate\n"
   ]
  },
  {
   "cell_type": "code",
   "execution_count": 26,
   "metadata": {},
   "outputs": [],
   "source": [
    "a = [1, 2, 3, 4, 5, 6, 7, 8, 9]\n",
    "acc_a = accumulate(a)"
   ]
  },
  {
   "cell_type": "code",
   "execution_count": 39,
   "metadata": {},
   "outputs": [
    {
     "data": {
      "text/plain": [
       "48"
      ]
     },
     "execution_count": 39,
     "metadata": {},
     "output_type": "execute_result"
    }
   ],
   "source": [
    "acc_a.__sizeof__()"
   ]
  },
  {
   "cell_type": "code",
   "execution_count": 22,
   "metadata": {},
   "outputs": [
    {
     "data": {
      "text/plain": [
       "[(4, 1), (1, 2), (0, 5), (2, 7), (3, 9)]"
      ]
     },
     "execution_count": 22,
     "metadata": {},
     "output_type": "execute_result"
    }
   ],
   "source": [
    "q = [5, 2, 7, 9, 1]\n",
    "sorted(enumerate(q), key = lambda i: i[1])    \n"
   ]
  },
  {
   "cell_type": "code",
   "execution_count": 49,
   "metadata": {},
   "outputs": [
    {
     "data": {
      "text/plain": [
       "[2, 3, 4]"
      ]
     },
     "execution_count": 49,
     "metadata": {},
     "output_type": "execute_result"
    }
   ],
   "source": [
    "from itertools import accumulate\n",
    "class Solution:\n",
    "    def answerQueries(self, nums: list[int], queries: list[int]) -> list[int]:\n",
    "        result = [0]*len(queries)\n",
    "        acc_num = list(accumulate(sorted(nums)))\n",
    "        for idx, cap in sorted(enumerate(queries), key = lambda x: x[1]):\n",
    "            max_list = list(filter(lambda x: x<= cap, acc_num))\n",
    "            result[idx] = len(max_list)\n",
    "        return result\n",
    "\n",
    "\n",
    "sol = Solution()     \n",
    "sol.answerQueries([4,5,2,1], [3,10,21])"
   ]
  },
  {
   "cell_type": "code",
   "execution_count": 9,
   "metadata": {},
   "outputs": [],
   "source": []
  },
  {
   "cell_type": "code",
   "execution_count": 10,
   "metadata": {},
   "outputs": [
    {
     "ename": "StopIteration",
     "evalue": "",
     "output_type": "error",
     "traceback": [
      "\u001b[1;31m---------------------------------------------------------------------------\u001b[0m",
      "\u001b[1;31mStopIteration\u001b[0m                             Traceback (most recent call last)",
      "Cell \u001b[1;32mIn[10], line 1\u001b[0m\n\u001b[1;32m----> 1\u001b[0m sol\u001b[39m.\u001b[39;49manswerQueries([\u001b[39m4\u001b[39;49m,\u001b[39m5\u001b[39;49m,\u001b[39m2\u001b[39;49m,\u001b[39m1\u001b[39;49m], [\u001b[39m3\u001b[39;49m,\u001b[39m10\u001b[39;49m,\u001b[39m21\u001b[39;49m])\n",
      "Cell \u001b[1;32mIn[8], line 7\u001b[0m, in \u001b[0;36mSolution.answerQueries\u001b[1;34m(self, nums, queries)\u001b[0m\n\u001b[0;32m      5\u001b[0m \u001b[39mfor\u001b[39;00m idx, cap \u001b[39min\u001b[39;00m \u001b[39menumerate\u001b[39m(queries):\n\u001b[0;32m      6\u001b[0m     acc_num \u001b[39m=\u001b[39m accumulate(\u001b[39msorted\u001b[39m(nums))\n\u001b[1;32m----> 7\u001b[0m     \u001b[39mwhile\u001b[39;00m \u001b[39mnext\u001b[39;49m(acc_num)\u001b[39m<\u001b[39m\u001b[39m=\u001b[39mcap:\n\u001b[0;32m      8\u001b[0m         result[idx] \u001b[39m+\u001b[39m\u001b[39m=\u001b[39m \u001b[39m1\u001b[39m\n\u001b[0;32m      9\u001b[0m \u001b[39mreturn\u001b[39;00m result\n",
      "\u001b[1;31mStopIteration\u001b[0m: "
     ]
    }
   ],
   "source": []
  },
  {
   "cell_type": "code",
   "execution_count": null,
   "metadata": {},
   "outputs": [],
   "source": []
  }
 ],
 "metadata": {
  "kernelspec": {
   "display_name": "Python 3",
   "language": "python",
   "name": "python3"
  },
  "language_info": {
   "codemirror_mode": {
    "name": "ipython",
    "version": 3
   },
   "file_extension": ".py",
   "mimetype": "text/x-python",
   "name": "python",
   "nbconvert_exporter": "python",
   "pygments_lexer": "ipython3",
   "version": "3.10.7"
  },
  "orig_nbformat": 4,
  "vscode": {
   "interpreter": {
    "hash": "ef1cb05b5fd69eb4c54293b569f04114c9572fbd0b12e25984b857ad7fb6a9e5"
   }
  }
 },
 "nbformat": 4,
 "nbformat_minor": 2
}
