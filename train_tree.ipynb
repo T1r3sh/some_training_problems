{
 "cells": [
  {
   "cell_type": "code",
   "execution_count": null,
   "metadata": {},
   "outputs": [],
   "source": []
  },
  {
   "cell_type": "markdown",
   "metadata": {},
   "source": [
    "from collections import defaultdict\n",
    "from itertools import combinations"
   ]
  },
  {
   "cell_type": "code",
   "execution_count": 20,
   "metadata": {},
   "outputs": [],
   "source": [
    "def fourSum(num, target):\n",
    "    two_sum = defaultdict(list)\n",
    "    res = set()\n",
    "    for (n1, i1), (n2, i2) in combinations(enumerate(num), 2):\n",
    "        two_sum[i1+i2].append({n1, n2})\n",
    "    for t in list(two_sum.keys()):\n",
    "        if not two_sum[target-t]:\n",
    "            continue\n",
    "        for pair1 in two_sum[t]:\n",
    "            for pair2 in two_sum[target-t]:\n",
    "                if pair1.isdisjoint(pair2):\n",
    "                    res.add(tuple(sorted(num[i] for i in pair1 | pair2)))\n",
    "        del two_sum[t]\n",
    "    return [list(r) for r in res]"
   ]
  },
  {
   "cell_type": "code",
   "execution_count": 22,
   "metadata": {},
   "outputs": [
    {
     "data": {
      "text/plain": [
       "True"
      ]
     },
     "execution_count": 22,
     "metadata": {},
     "output_type": "execute_result"
    }
   ],
   "source": [
    "a = {'a', 'b', 'c'}\n",
    "b = {'c', 'a', 'b'}\n",
    "a==b"
   ]
  },
  {
   "cell_type": "code",
   "execution_count": 23,
   "metadata": {},
   "outputs": [
    {
     "data": {
      "text/plain": [
       "0"
      ]
     },
     "execution_count": 23,
     "metadata": {},
     "output_type": "execute_result"
    }
   ],
   "source": [
    "c = ''\n",
    "len(c)\n"
   ]
  },
  {
   "cell_type": "code",
   "execution_count": 21,
   "metadata": {},
   "outputs": [
    {
     "name": "stdout",
     "output_type": "stream",
     "text": [
      "{0, 1} {2, 3}\n",
      "{0, 1, 2, 3}\n",
      "{0, 3} {1, 2}\n",
      "{0, 1, 2, 3}\n",
      "{2, 5} {0, 4}\n",
      "{0, 2, 4, 5}\n",
      "{0, 2} {1, 3}\n",
      "{0, 1, 2, 3}\n",
      "{0, 2} {4, 5}\n",
      "{0, 2, 4, 5}\n",
      "{1, 3} {0, 2}\n",
      "{0, 1, 2, 3}\n",
      "{1, 3} {4, 5}\n",
      "{1, 3, 4, 5}\n",
      "{4, 5} {0, 2}\n",
      "{0, 2, 4, 5}\n",
      "{4, 5} {1, 3}\n",
      "{1, 3, 4, 5}\n",
      "{0, 5} {2, 4}\n",
      "{0, 2, 4, 5}\n",
      "{1, 4} {3, 5}\n",
      "{1, 3, 4, 5}\n",
      "{3, 4} {1, 5}\n",
      "{1, 3, 4, 5}\n"
     ]
    },
    {
     "data": {
      "text/plain": [
       "[[-2, -1, 1, 2], [-1, 0, 0, 1], [-2, 0, 0, 2]]"
      ]
     },
     "execution_count": 21,
     "metadata": {},
     "output_type": "execute_result"
    }
   ],
   "source": [
    "a = [1, 0, -1, 0, -2, 2]\n",
    "fourSum(a, target = 0)"
   ]
  },
  {
   "cell_type": "code",
   "execution_count": 30,
   "metadata": {},
   "outputs": [],
   "source": [
    "class Node():\n",
    "    \n",
    "    def __init__(self, val, parent = None) -> None:\n",
    "        self.val = val\n",
    "        self.parent = parent\n",
    "        self.child = []\n",
    "    \n",
    "    def add_child(self, Node):\n",
    "        self.child.append(Node)\n",
    "        \n",
    "    def __str__(self):\n",
    "        return f'Node with {self.val} value. Parent {self.parent.val}'\n",
    "        \n",
    "\n",
    "class Tree():\n",
    "    \"\"\"\n",
    "    Tree class with head in the top and branches\n",
    "    \"\"\"\n",
    "    def __init__(self, head: Node = None) -> None:\n",
    "        self.head = head\n",
    "        self.bottom_child = []\n",
    "    \n",
    "    def add_to(self, *val, place: Node = None):\n",
    "        \n",
    "        \"\"\"\n",
    "        Adding branches to tree method\n",
    "        Warning! This will not check if head is exist ethier not\n",
    "\n",
    "        Args:\n",
    "            val (tuple(int)): tuple or value\n",
    "            place (Node) = None: Node to place value at\n",
    "        Return:\n",
    "            list[Node]: list which will return nodes, to work with\n",
    "            \n",
    "        \"\"\"\n",
    "        if place is None:\n",
    "            place = self.head\n",
    "        node_adr = []\n",
    "        for i in val:\n",
    "            new_Node = Node(i, parent = place)\n",
    "            place.add_child(new_Node)\n",
    "    \n",
    "    def fill_tree(self, *vals: tuple, place: Node = None, repeat:int = 3) ->None:\n",
    "        \"\"\"Filling tree in depth\n",
    "\n",
    "        Args:\n",
    "            place (Node, optional): place to check positions. Defaults to None.\n",
    "            repeat (int, optional): depth. Defaults to 3.\n",
    "\n",
    "        Returns:\n",
    "            None\n",
    "        \"\"\"\n",
    "        if place == None:\n",
    "            place = self.head\n",
    "        if repeat == 0:\n",
    "            self.bottom_child.append(place)\n",
    "            return None\n",
    "        for i in vals:\n",
    "            new_node = Node(i, place)\n",
    "            place.add_child(new_node)\n",
    "            tmp = list(vals)\n",
    "            tmp.remove(i)\n",
    "            self.fill_tree(tmp, place = new_node, repeat=repeat-1)\n",
    "        \n",
    "    def print_tree(self, curr_node: Node = None):\n",
    "        if curr_node is None:\n",
    "            curr_node  = self.head\n",
    "        for child in curr_node.child:\n",
    "            pass    \n",
    "    \n",
    "    def all_sum(self):\n",
    "        fin = defaultdict(lambda: 0)\n",
    "        for child in self.bottom_child:\n",
    "            s = []\n",
    "            curr_pos = child\n",
    "            while curr_pos is not None:\n",
    "                s.append(curr_pos.val)\n",
    "                print(curr_pos)\n",
    "                curr_pos = curr_pos.parent\n",
    "            print(s)\n",
    "            fin[' '.join(map(str, s))] = sum(s)\n",
    "        return fin\n",
    "    '''\n",
    "    def all_sum(self, curr_node:Node = None):\n",
    "        if curr_node is None:\n",
    "            curr_node  = self.head\n",
    "        for child in curr_node.child:\n",
    "            tmp = curr_node.val\n",
    "            tmp += self.all_sum(child)\n",
    "            yield tmp\n",
    "    '''        "
   ]
  },
  {
   "cell_type": "code",
   "execution_count": 31,
   "metadata": {},
   "outputs": [],
   "source": [
    "head_node = Node(1)\n",
    "a = [0, -1, 0, -2, 2]\n",
    "test_tree = Tree(head_node)"
   ]
  },
  {
   "cell_type": "code",
   "execution_count": 32,
   "metadata": {},
   "outputs": [],
   "source": [
    "test_tree.fill_tree(a)\n"
   ]
  },
  {
   "cell_type": "code",
   "execution_count": 33,
   "metadata": {},
   "outputs": [
    {
     "name": "stdout",
     "output_type": "stream",
     "text": [
      "Node with [] value. Parent []\n",
      "Node with [] value. Parent [0, -1, 0, -2, 2]\n",
      "Node with [0, -1, 0, -2, 2] value. Parent 1\n"
     ]
    },
    {
     "ename": "AttributeError",
     "evalue": "'NoneType' object has no attribute 'val'",
     "output_type": "error",
     "traceback": [
      "\u001b[1;31m---------------------------------------------------------------------------\u001b[0m",
      "\u001b[1;31mAttributeError\u001b[0m                            Traceback (most recent call last)",
      "Cell \u001b[1;32mIn[33], line 1\u001b[0m\n\u001b[1;32m----> 1\u001b[0m \u001b[39mprint\u001b[39m(test_tree\u001b[39m.\u001b[39;49mall_sum())\n",
      "Cell \u001b[1;32mIn[30], line 78\u001b[0m, in \u001b[0;36mTree.all_sum\u001b[1;34m(self)\u001b[0m\n\u001b[0;32m     76\u001b[0m \u001b[39mwhile\u001b[39;00m curr_pos \u001b[39mis\u001b[39;00m \u001b[39mnot\u001b[39;00m \u001b[39mNone\u001b[39;00m:\n\u001b[0;32m     77\u001b[0m     s\u001b[39m.\u001b[39mappend(curr_pos\u001b[39m.\u001b[39mval)\n\u001b[1;32m---> 78\u001b[0m     \u001b[39mprint\u001b[39;49m(curr_pos)\n\u001b[0;32m     79\u001b[0m     curr_pos \u001b[39m=\u001b[39m curr_pos\u001b[39m.\u001b[39mparent\n\u001b[0;32m     80\u001b[0m \u001b[39mprint\u001b[39m(s)\n",
      "Cell \u001b[1;32mIn[30], line 12\u001b[0m, in \u001b[0;36mNode.__str__\u001b[1;34m(self)\u001b[0m\n\u001b[0;32m     11\u001b[0m \u001b[39mdef\u001b[39;00m \u001b[39m__str__\u001b[39m(\u001b[39mself\u001b[39m):\n\u001b[1;32m---> 12\u001b[0m     \u001b[39mreturn\u001b[39;00m \u001b[39mf\u001b[39m\u001b[39m'\u001b[39m\u001b[39mNode with \u001b[39m\u001b[39m{\u001b[39;00m\u001b[39mself\u001b[39m\u001b[39m.\u001b[39mval\u001b[39m}\u001b[39;00m\u001b[39m value. Parent \u001b[39m\u001b[39m{\u001b[39;00m\u001b[39mself\u001b[39;49m\u001b[39m.\u001b[39;49mparent\u001b[39m.\u001b[39;49mval\u001b[39m}\u001b[39;00m\u001b[39m'\u001b[39m\n",
      "\u001b[1;31mAttributeError\u001b[0m: 'NoneType' object has no attribute 'val'"
     ]
    }
   ],
   "source": [
    "print(test_tree.all_sum())"
   ]
  },
  {
   "cell_type": "code",
   "execution_count": 33,
   "metadata": {},
   "outputs": [],
   "source": [
    "from collections import defaultdict, Counter\n",
    "from itertools import groupby"
   ]
  },
  {
   "cell_type": "code",
   "execution_count": 31,
   "metadata": {},
   "outputs": [],
   "source": [
    "def groupAnagrams(strs):\n",
    "    \"\"\"\n",
    "    :type strs: List[str]\n",
    "    :rtype: List[List[str]]\n",
    "    \"\"\"\n",
    "    fin = defaultdict(lambda:[])\n",
    "    for s in strs:\n",
    "        fin[frozenset(s)].append(s)\n",
    "    return list(fin.values())\n",
    "    \n",
    "        \n"
   ]
  },
  {
   "cell_type": "code",
   "execution_count": 26,
   "metadata": {},
   "outputs": [
    {
     "data": {
      "text/plain": [
       "defaultdict(<function __main__.<lambda>()>,\n",
       "            {frozenset({'a', 'e', 't'}): ['eat', 'tea']})"
      ]
     },
     "execution_count": 26,
     "metadata": {},
     "output_type": "execute_result"
    }
   ],
   "source": [
    "\n",
    "strs = [\"eat\",\"tea\",\"tan\",\"ate\",\"nat\",\"bat\"]\n",
    "fin = defaultdict(lambda:[])\n",
    "a = frozenset(strs[0])\n",
    "fin[a].append(strs[0])\n",
    "b = frozenset(strs[1])\n",
    "fin[b].append(strs[1])\n",
    "fin\n"
   ]
  },
  {
   "cell_type": "code",
   "execution_count": 32,
   "metadata": {},
   "outputs": [
    {
     "data": {
      "text/plain": [
       "[['eat', 'tea', 'ate'], ['tan', 'nat'], ['bat']]"
      ]
     },
     "execution_count": 32,
     "metadata": {},
     "output_type": "execute_result"
    }
   ],
   "source": [
    "groupAnagrams(strs)"
   ]
  },
  {
   "cell_type": "code",
   "execution_count": 43,
   "metadata": {},
   "outputs": [
    {
     "data": {
      "text/plain": [
       "('e', 'a', 't')"
      ]
     },
     "execution_count": 43,
     "metadata": {},
     "output_type": "execute_result"
    }
   ],
   "source": [
    "a = tuple(strs[0])\n",
    "b = tuple(strs[1])\n",
    "a"
   ]
  },
  {
   "cell_type": "code",
   "execution_count": 44,
   "metadata": {},
   "outputs": [],
   "source": [
    "c = defaultdict(lambda:[])\n"
   ]
  },
  {
   "cell_type": "code",
   "execution_count": 49,
   "metadata": {},
   "outputs": [
    {
     "ename": "TypeError",
     "evalue": "unhashable type: 'dict'",
     "output_type": "error",
     "traceback": [
      "\u001b[1;31m---------------------------------------------------------------------------\u001b[0m",
      "\u001b[1;31mTypeError\u001b[0m                                 Traceback (most recent call last)",
      "Cell \u001b[1;32mIn[49], line 1\u001b[0m\n\u001b[1;32m----> 1\u001b[0m c[{\u001b[39m'\u001b[39;49m\u001b[39ma\u001b[39;49m\u001b[39m'\u001b[39;49m:\u001b[39m3\u001b[39;49m}]\u001b[39m.\u001b[39mappend(strs[\u001b[39m0\u001b[39m])\n\u001b[0;32m      2\u001b[0m c[b]\u001b[39m.\u001b[39mappend(strs[\u001b[39m1\u001b[39m])\n",
      "\u001b[1;31mTypeError\u001b[0m: unhashable type: 'dict'"
     ]
    }
   ],
   "source": [
    "c[].append(strs[0])\n",
    "c[b].append(strs[1])"
   ]
  },
  {
   "cell_type": "code",
   "execution_count": 50,
   "metadata": {},
   "outputs": [],
   "source": [
    "strs_counter = map(Counter, strs)"
   ]
  },
  {
   "cell_type": "code",
   "execution_count": 52,
   "metadata": {},
   "outputs": [
    {
     "name": "stdout",
     "output_type": "stream",
     "text": [
      "[Counter({'e': 1, 'a': 1, 't': 1}), Counter({'t': 1, 'e': 1, 'a': 1}), Counter({'t': 1, 'a': 1, 'n': 1}), Counter({'a': 1, 't': 1, 'e': 1}), Counter({'n': 1, 'a': 1, 't': 1}), Counter({'b': 1, 'a': 1, 't': 1})]\n"
     ]
    }
   ],
   "source": [
    "print(list(strs_counter))"
   ]
  },
  {
   "cell_type": "code",
   "execution_count": null,
   "metadata": {},
   "outputs": [],
   "source": [
    "[\"1\",\"1\",\"0\",\"0\",\"0\"],\n",
    "[\"1\",\"1\",\"0\",\"0\",\"0\"],\n",
    "[\"0\",\"0\",\"1\",\"0\",\"0\"],\n",
    "[\"0\",\"0\",\"0\",\"1\",\"1\"]"
   ]
  },
  {
   "cell_type": "code",
   "execution_count": 65,
   "metadata": {},
   "outputs": [],
   "source": [
    "from collections import Counter, defaultdict"
   ]
  },
  {
   "cell_type": "code",
   "execution_count": null,
   "metadata": {},
   "outputs": [],
   "source": []
  },
  {
   "cell_type": "code",
   "execution_count": 116,
   "metadata": {},
   "outputs": [],
   "source": [
    "\n",
    "class Solution(object):\n",
    "    def numIslands(self, grid):\n",
    "        \"\"\"\n",
    "        :type grid: List[List[str]]\n",
    "        :rtype: int\n",
    "        \"\"\"\n",
    "        count = 0\n",
    "        for idx, row in enumerate(grid):\n",
    "            for jdx, elem in enumerate(row):\n",
    "                if elem == '1':\n",
    "                    self.dfs(grid, idx, jdx)\n",
    "                    count+=1\n",
    "        return count\n",
    "    \n",
    "    def dfs(self, grid, i, j):\n",
    "        if i<0 or j<0 or i>len(grid) or j>len(grid[0]) or grid[i][j] !=  \"1\":\n",
    "            return\n",
    "        grid[i][j] = '#'\n",
    "        self.dfs(grid, i+1, j)\n",
    "        self.dfs(grid, i-1, j)\n",
    "        self.dfs(grid, i, j-1)\n",
    "        self.dfs(grid, i, j+1)\n",
    "        \n",
    "        \n",
    "        \n",
    "    def merge(self, intervals):\n",
    "        \"\"\"\n",
    "        :type intervals: List[List[int]]\n",
    "        :rtype: List[List[int]]\n",
    "        \"\"\"\n",
    "        res = []\n",
    "        last = intervals[0]\n",
    "        for idx, val in enumerate(intervals):\n",
    "            curr_set = set(range(val[0], val[1]+1))\n",
    "            last_set = set(range(last[0], last[1]+1))\n",
    "            min_max = [min(val), max(val)] if not curr_set.symmetric_difference(last_set) else [min(curr_set.symmetric_difference(last_set)), max(curr_set.symmetric_difference(last_set))]\n",
    "            tmp_val = val if curr_set==last_set or not curr_set.intersection(last_set) else min_max\n",
    "            print(tmp_val)\n",
    "            if tmp_val==val:\n",
    "                res.append(tmp_val)\n",
    "            else:\n",
    "                res[-1] = tmp_val\n",
    "            last = val\n",
    "        return res\n",
    "    \n",
    "    def merge2(self, intervals):\n",
    "        \"\"\"Uniting overlapping intervals\n",
    "\n",
    "        Args:\n",
    "            intervals (list[list[int]]): list of intervals\n",
    "\n",
    "        Returns:\n",
    "            list with all overlaped intervals merged\n",
    "            rtype : list[list[int]]\n",
    "        \"\"\"\n",
    "        # here need to sort intervals by first val to make this algorythm work\n",
    "        res = []\n",
    "        for i in sorted(intervals,key = lambda x: x[0]):\n",
    "            print(i)\n",
    "            if not res or res[-1][1]<i[0]:\n",
    "                res.append(i)\n",
    "            else:\n",
    "                res[-1][1] = max(i[-1], res[-1][-1])\n",
    "        return res\n",
    "    \n",
    "    def topKFrequent(self, words, k):\n",
    "        \"\"\"\n",
    "        :type words: List[str]\n",
    "        :type k: int\n",
    "        :rtype: List[str]\n",
    "        \"\"\"\n",
    "        word_counter = Counter(words).most_common()\n",
    "        res = defaultdict(list)\n",
    "        for word, amount in word_counter:\n",
    "            res[amount].append(word)\n",
    "        output = []\n",
    "        for key, val in res.items():\n",
    "            output.extend(sorted(val))\n",
    "            if len(output)>k:\n",
    "                break\n",
    "        return output[:k]\n"
   ]
  },
  {
   "cell_type": "code",
   "execution_count": 119,
   "metadata": {},
   "outputs": [
    {
     "data": {
      "text/plain": [
       "['day', 'is', 'is', 'is', 'sunny', 'sunny', 'the', 'the', 'the', 'the']"
      ]
     },
     "execution_count": 119,
     "metadata": {},
     "output_type": "execute_result"
    }
   ],
   "source": [
    "test_case = [\"the\",\"day\",\"is\",\"sunny\",\"the\",\"the\",\"the\",\"sunny\",\"is\",\"is\"]\n",
    "t_sort = sorted(test_case)\n",
    "sol = Solution()\n",
    "t_sort"
   ]
  },
  {
   "cell_type": "code",
   "execution_count": 121,
   "metadata": {},
   "outputs": [
    {
     "data": {
      "text/plain": [
       "['the', 'is', 'sunny', 'day']"
      ]
     },
     "execution_count": 121,
     "metadata": {},
     "output_type": "execute_result"
    }
   ],
   "source": [
    "sol.topKFrequent(test_case, 4)"
   ]
  },
  {
   "cell_type": "code",
   "execution_count": 118,
   "metadata": {},
   "outputs": [],
   "source": [
    "intervals = [[1, 2], [3, 4], [5, 8], [0, 10]]\n",
    "sol = Solution()\n"
   ]
  },
  {
   "cell_type": "code",
   "execution_count": 31,
   "metadata": {},
   "outputs": [
    {
     "name": "stdout",
     "output_type": "stream",
     "text": [
      "[0, 10]\n",
      "[1, 2]\n",
      "[3, 4]\n",
      "[5, 8]\n"
     ]
    },
    {
     "data": {
      "text/plain": [
       "[[0, 10]]"
      ]
     },
     "execution_count": 31,
     "metadata": {},
     "output_type": "execute_result"
    }
   ],
   "source": [
    "sol.merge2(intervals)"
   ]
  },
  {
   "cell_type": "code",
   "execution_count": 3,
   "metadata": {},
   "outputs": [
    {
     "data": {
      "text/plain": [
       "True"
      ]
     },
     "execution_count": 3,
     "metadata": {},
     "output_type": "execute_result"
    }
   ],
   "source": [
    "a = {1,2, 3}\n",
    "b = { 4, 5}\n",
    "a.isdisjoint(b)\n"
   ]
  },
  {
   "cell_type": "code",
   "execution_count": 11,
   "metadata": {},
   "outputs": [
    {
     "ename": "AttributeError",
     "evalue": "'list' object has no attribute 'start'",
     "output_type": "error",
     "traceback": [
      "\u001b[1;31m---------------------------------------------------------------------------\u001b[0m",
      "\u001b[1;31mAttributeError\u001b[0m                            Traceback (most recent call last)",
      "Cell \u001b[1;32mIn[11], line 2\u001b[0m\n\u001b[0;32m      1\u001b[0m \u001b[39msorted\u001b[39m(intervals, key \u001b[39m=\u001b[39m \u001b[39mlambda\u001b[39;00m x: x[\u001b[39m0\u001b[39m])\n\u001b[1;32m----> 2\u001b[0m intervals\u001b[39m.\u001b[39;49mstart\n",
      "\u001b[1;31mAttributeError\u001b[0m: 'list' object has no attribute 'start'"
     ]
    }
   ],
   "source": [
    "sorted(intervals, key = lambda x: x[0])\n",
    "intervals.start\n",
    "            "
   ]
  },
  {
   "cell_type": "code",
   "execution_count": null,
   "metadata": {},
   "outputs": [],
   "source": []
  }
 ],
 "metadata": {
  "kernelspec": {
   "display_name": "Python 3",
   "language": "python",
   "name": "python3"
  },
  "language_info": {
   "codemirror_mode": {
    "name": "ipython",
    "version": 3
   },
   "file_extension": ".py",
   "mimetype": "text/x-python",
   "name": "python",
   "nbconvert_exporter": "python",
   "pygments_lexer": "ipython3",
   "version": "3.10.7"
  },
  "orig_nbformat": 4,
  "vscode": {
   "interpreter": {
    "hash": "ef1cb05b5fd69eb4c54293b569f04114c9572fbd0b12e25984b857ad7fb6a9e5"
   }
  }
 },
 "nbformat": 4,
 "nbformat_minor": 2
}
